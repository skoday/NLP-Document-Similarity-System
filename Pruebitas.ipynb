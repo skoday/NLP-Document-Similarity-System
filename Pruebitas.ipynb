{
 "cells": [
  {
   "cell_type": "code",
   "execution_count": 1,
   "id": "b69f7b1f-1f6e-4024-a358-ce016842a6ef",
   "metadata": {},
   "outputs": [],
   "source": [
    "from nlp.models import Create_model\n",
    "from nlp.normalization import Normalization\n",
    "import pandas as pd"
   ]
  },
  {
   "cell_type": "code",
   "execution_count": 2,
   "id": "c3a02858-901d-434c-ae11-0088a44cfc46",
   "metadata": {},
   "outputs": [],
   "source": [
    "inputs = [\n",
    "    \"Carlos Fernández-Vega : México SA\",\n",
    "    \"sector energético , cada cuatro empresa atraído nearshoring\",\n",
    "    \"2023 , inversión mexicano extranjero disminuir 55.7%\",\n",
    "    \"Enrique Galván Ochoa : Dinero\",\n",
    "    \"congresista EU presentar acuerdo financiamiento gobierno\"\n",
    "]"
   ]
  },
  {
   "cell_type": "code",
   "execution_count": 3,
   "id": "4b013891-3dd5-4160-ab23-1ef810810b5b",
   "metadata": {},
   "outputs": [],
   "source": [
    "# a un datagrame \n",
    "documentos = pd.DataFrame(inputs, columns=[\"Documento\"])"
   ]
  },
  {
   "cell_type": "markdown",
   "id": "770b1a67-2159-435d-9d77-5ecfd6e59ab3",
   "metadata": {},
   "source": [
    "## Normalizando"
   ]
  },
  {
   "cell_type": "code",
   "execution_count": 4,
   "id": "df95a99e-99b2-4cb0-aa51-7cafd4ff2b26",
   "metadata": {},
   "outputs": [],
   "source": [
    "normalizer = Normalization(documentos)"
   ]
  },
  {
   "cell_type": "code",
   "execution_count": 5,
   "id": "07c2691a-c82c-4227-9c7e-2ef26f33d850",
   "metadata": {},
   "outputs": [
    {
     "name": "stdout",
     "output_type": "stream",
     "text": [
      "Normalizando df\n"
     ]
    }
   ],
   "source": [
    "documentos_normalizados = normalizer.normalize()"
   ]
  },
  {
   "cell_type": "code",
   "execution_count": 6,
   "id": "61d387a5-7f14-4915-a79f-e5ac740bda70",
   "metadata": {},
   "outputs": [
    {
     "data": {
      "text/html": [
       "<div>\n",
       "<style scoped>\n",
       "    .dataframe tbody tr th:only-of-type {\n",
       "        vertical-align: middle;\n",
       "    }\n",
       "\n",
       "    .dataframe tbody tr th {\n",
       "        vertical-align: top;\n",
       "    }\n",
       "\n",
       "    .dataframe thead th {\n",
       "        text-align: right;\n",
       "    }\n",
       "</style>\n",
       "<table border=\"1\" class=\"dataframe\">\n",
       "  <thead>\n",
       "    <tr style=\"text-align: right;\">\n",
       "      <th></th>\n",
       "      <th>Documento</th>\n",
       "    </tr>\n",
       "  </thead>\n",
       "  <tbody>\n",
       "    <tr>\n",
       "      <th>0</th>\n",
       "      <td>Carlos Fernández-Vega : México SA</td>\n",
       "    </tr>\n",
       "    <tr>\n",
       "      <th>1</th>\n",
       "      <td>sector energético , cuatro empresa atraído nea...</td>\n",
       "    </tr>\n",
       "    <tr>\n",
       "      <th>2</th>\n",
       "      <td>2023 , inversión mexicano extranjero disminuir...</td>\n",
       "    </tr>\n",
       "    <tr>\n",
       "      <th>3</th>\n",
       "      <td>Enrique Galván Ochoa : Dinero</td>\n",
       "    </tr>\n",
       "    <tr>\n",
       "      <th>4</th>\n",
       "      <td>congresista eu presentar acuerdo financiamient...</td>\n",
       "    </tr>\n",
       "  </tbody>\n",
       "</table>\n",
       "</div>"
      ],
      "text/plain": [
       "                                           Documento\n",
       "0                  Carlos Fernández-Vega : México SA\n",
       "1  sector energético , cuatro empresa atraído nea...\n",
       "2  2023 , inversión mexicano extranjero disminuir...\n",
       "3                      Enrique Galván Ochoa : Dinero\n",
       "4  congresista eu presentar acuerdo financiamient..."
      ]
     },
     "execution_count": 6,
     "metadata": {},
     "output_type": "execute_result"
    }
   ],
   "source": [
    "documentos_normalizados"
   ]
  },
  {
   "cell_type": "markdown",
   "id": "59c8be5b-6ba9-4900-9ba9-63975d562bc8",
   "metadata": {},
   "source": [
    "### Creando modelo"
   ]
  },
  {
   "cell_type": "code",
   "execution_count": 7,
   "id": "31ac12b1-f670-4585-ba61-533d1798a9f0",
   "metadata": {},
   "outputs": [],
   "source": [
    "# importando noramlized data\n",
    "corpus = pd.read_csv(\"normalized_data_corpus_lcd_293.csv\")"
   ]
  },
  {
   "cell_type": "code",
   "execution_count": 8,
   "id": "6e0604a0-4eec-4032-93ac-0e64fa694d22",
   "metadata": {},
   "outputs": [
    {
     "data": {
      "text/plain": [
       "Index(['Fuente', 'Título', 'Contenido', 'Sección', 'Url', 'Fecha'], dtype='object')"
      ]
     },
     "execution_count": 8,
     "metadata": {},
     "output_type": "execute_result"
    }
   ],
   "source": [
    "corpus.columns"
   ]
  },
  {
   "cell_type": "code",
   "execution_count": 9,
   "id": "d4a95cca-1729-4204-ae46-cda33df5f6ce",
   "metadata": {},
   "outputs": [],
   "source": [
    "model_selector = Create_model(corpus)"
   ]
  },
  {
   "cell_type": "markdown",
   "id": "4fd54c53-39d2-4cdf-9f8f-26ec91321aff",
   "metadata": {},
   "source": [
    "#### Usando binario con bigramas y titulos"
   ]
  },
  {
   "cell_type": "code",
   "execution_count": 10,
   "id": "c166cdcf-9646-48ac-934b-0f98e0c6f572",
   "metadata": {},
   "outputs": [],
   "source": [
    "model = model_selector.binary(1, \"Título\")"
   ]
  },
  {
   "cell_type": "code",
   "execution_count": 11,
   "id": "6227daea-51c9-4755-8378-ccec2d81caa5",
   "metadata": {},
   "outputs": [],
   "source": [
    "from nlp.models import Create_model, Adjust_Document"
   ]
  },
  {
   "cell_type": "code",
   "execution_count": 12,
   "id": "0d06c5b0-6826-4d24-8479-d1c629a74a84",
   "metadata": {},
   "outputs": [],
   "source": [
    "adjustment = Adjust_Document(model, documentos_normalizados, corpus, \"Título\")"
   ]
  },
  {
   "cell_type": "code",
   "execution_count": 13,
   "id": "deacbb8b-8c6c-4941-9dc9-8945fcc9a1e3",
   "metadata": {},
   "outputs": [],
   "source": [
    "simuilitudes = adjustment.compare()"
   ]
  },
  {
   "cell_type": "code",
   "execution_count": 14,
   "id": "79b66b24-b99b-4a19-8a3c-d5573930472e",
   "metadata": {},
   "outputs": [
    {
     "data": {
      "text/plain": [
       "5"
      ]
     },
     "execution_count": 14,
     "metadata": {},
     "output_type": "execute_result"
    }
   ],
   "source": [
    "len(simuilitudes)"
   ]
  },
  {
   "cell_type": "code",
   "execution_count": 19,
   "id": "bbceed3d-a350-4ecb-a9f8-d71162babb50",
   "metadata": {},
   "outputs": [
    {
     "data": {
      "text/html": [
       "<div>\n",
       "<style scoped>\n",
       "    .dataframe tbody tr th:only-of-type {\n",
       "        vertical-align: middle;\n",
       "    }\n",
       "\n",
       "    .dataframe tbody tr th {\n",
       "        vertical-align: top;\n",
       "    }\n",
       "\n",
       "    .dataframe thead th {\n",
       "        text-align: right;\n",
       "    }\n",
       "</style>\n",
       "<table border=\"1\" class=\"dataframe\">\n",
       "  <thead>\n",
       "    <tr style=\"text-align: right;\">\n",
       "      <th></th>\n",
       "      <th>Fuente</th>\n",
       "      <th>Título</th>\n",
       "      <th>Contenido</th>\n",
       "      <th>Sección</th>\n",
       "      <th>Url</th>\n",
       "      <th>Fecha</th>\n",
       "      <th>Similarity</th>\n",
       "    </tr>\n",
       "  </thead>\n",
       "  <tbody>\n",
       "    <tr>\n",
       "      <th>1</th>\n",
       "      <td>La Jornada</td>\n",
       "      <td>sector energético , cada cuatro empresa atraíd...</td>\n",
       "      <td>cada cuatro firma haber arribar México relocal...</td>\n",
       "      <td>Economía</td>\n",
       "      <td>https://www.jornada.com.mx/2024/03/04/economia...</td>\n",
       "      <td>04/03/2024</td>\n",
       "      <td>0.935414</td>\n",
       "    </tr>\n",
       "    <tr>\n",
       "      <th>256</th>\n",
       "      <td>Expansión</td>\n",
       "      <td>nearshoring , nuevo inversión desinflar México</td>\n",
       "      <td>acuerdo cifra oficial , año pasado ingresar 4....</td>\n",
       "      <td>Economía</td>\n",
       "      <td>https://expansion.mx/economia/2024/03/07/con-t...</td>\n",
       "      <td>07/03/2024</td>\n",
       "      <td>0.308607</td>\n",
       "    </tr>\n",
       "    <tr>\n",
       "      <th>63</th>\n",
       "      <td>Expansión</td>\n",
       "      <td>tema energético Estados Unidos ya resolver , a...</td>\n",
       "      <td>titular Economía explicar que tema haber difer...</td>\n",
       "      <td>Economía</td>\n",
       "      <td>https://expansion.mx/economia/2024/02/27/mexic...</td>\n",
       "      <td>28/02/2024</td>\n",
       "      <td>0.239046</td>\n",
       "    </tr>\n",
       "    <tr>\n",
       "      <th>41</th>\n",
       "      <td>Expansión</td>\n",
       "      <td>Finamex buscar capitalizar nearshoring</td>\n",
       "      <td>principal casa bolsa México pretender aprovech...</td>\n",
       "      <td>Economía</td>\n",
       "      <td>https://expansion.mx/economia/2024/03/01/finam...</td>\n",
       "      <td>01/03/2024</td>\n",
       "      <td>0.188982</td>\n",
       "    </tr>\n",
       "    <tr>\n",
       "      <th>128</th>\n",
       "      <td>La Jornada</td>\n",
       "      <td>Miguel Pineda : Negocios empresa</td>\n",
       "      <td>China dominar producción     automóvil siguien...</td>\n",
       "      <td>Economía</td>\n",
       "      <td>https://www.jornada.com.mx/2024/03/05/opinion/...</td>\n",
       "      <td>05/03/2024</td>\n",
       "      <td>0.169031</td>\n",
       "    </tr>\n",
       "    <tr>\n",
       "      <th>180</th>\n",
       "      <td>La Jornada</td>\n",
       "      <td>Diccionario rendir homenaje Moliner , BC</td>\n",
       "      <td>Tijuana , BC . , Compañía Nacional Teatro lleg...</td>\n",
       "      <td>Cultura</td>\n",
       "      <td>https://www.jornada.com.mx/2024/03/06/cultura/...</td>\n",
       "      <td>06/03/2024</td>\n",
       "      <td>0.154303</td>\n",
       "    </tr>\n",
       "    <tr>\n",
       "      <th>241</th>\n",
       "      <td>La Jornada</td>\n",
       "      <td>América , pie cuartos final Concachampions</td>\n",
       "      <td>América poner pie cuarto final Copa Campeones ...</td>\n",
       "      <td>Deportes</td>\n",
       "      <td>https://www.jornada.com.mx/2024/03/07/deportes...</td>\n",
       "      <td>07/03/2024</td>\n",
       "      <td>0.154303</td>\n",
       "    </tr>\n",
       "    <tr>\n",
       "      <th>19</th>\n",
       "      <td>La Jornada</td>\n",
       "      <td>Rayados , líder invicto , golea Pumas</td>\n",
       "      <td>Monterrey Pumas jugar partido anestesia , como...</td>\n",
       "      <td>Deportes</td>\n",
       "      <td>https://www.jornada.com.mx/2024/03/04/deportes...</td>\n",
       "      <td>04/03/2024</td>\n",
       "      <td>0.154303</td>\n",
       "    </tr>\n",
       "    <tr>\n",
       "      <th>143</th>\n",
       "      <td>La Jornada</td>\n",
       "      <td>cultura extravagancia París , cartel Olímpicos</td>\n",
       "      <td>París . Colores vibrante sitio emblemático ilu...</td>\n",
       "      <td>Deportes</td>\n",
       "      <td>https://www.jornada.com.mx/2024/03/05/deportes...</td>\n",
       "      <td>05/03/2024</td>\n",
       "      <td>0.154303</td>\n",
       "    </tr>\n",
       "    <tr>\n",
       "      <th>215</th>\n",
       "      <td>La Jornada</td>\n",
       "      <td>fundamento , inquietud eu vehículo chino</td>\n",
       "      <td>primero bimestre año , dos cada 10 auto vendid...</td>\n",
       "      <td>Economía</td>\n",
       "      <td>https://www.jornada.com.mx/2024/03/07/economia...</td>\n",
       "      <td>07/03/2024</td>\n",
       "      <td>0.154303</td>\n",
       "    </tr>\n",
       "  </tbody>\n",
       "</table>\n",
       "</div>"
      ],
      "text/plain": [
       "         Fuente                                             Título  \\\n",
       "1    La Jornada  sector energético , cada cuatro empresa atraíd...   \n",
       "256   Expansión     nearshoring , nuevo inversión desinflar México   \n",
       "63    Expansión  tema energético Estados Unidos ya resolver , a...   \n",
       "41    Expansión             Finamex buscar capitalizar nearshoring   \n",
       "128  La Jornada                   Miguel Pineda : Negocios empresa   \n",
       "180  La Jornada           Diccionario rendir homenaje Moliner , BC   \n",
       "241  La Jornada         América , pie cuartos final Concachampions   \n",
       "19   La Jornada              Rayados , líder invicto , golea Pumas   \n",
       "143  La Jornada     cultura extravagancia París , cartel Olímpicos   \n",
       "215  La Jornada           fundamento , inquietud eu vehículo chino   \n",
       "\n",
       "                                             Contenido   Sección  \\\n",
       "1    cada cuatro firma haber arribar México relocal...  Economía   \n",
       "256  acuerdo cifra oficial , año pasado ingresar 4....  Economía   \n",
       "63   titular Economía explicar que tema haber difer...  Economía   \n",
       "41   principal casa bolsa México pretender aprovech...  Economía   \n",
       "128  China dominar producción     automóvil siguien...  Economía   \n",
       "180  Tijuana , BC . , Compañía Nacional Teatro lleg...   Cultura   \n",
       "241  América poner pie cuarto final Copa Campeones ...  Deportes   \n",
       "19   Monterrey Pumas jugar partido anestesia , como...  Deportes   \n",
       "143  París . Colores vibrante sitio emblemático ilu...  Deportes   \n",
       "215  primero bimestre año , dos cada 10 auto vendid...  Economía   \n",
       "\n",
       "                                                   Url       Fecha  Similarity  \n",
       "1    https://www.jornada.com.mx/2024/03/04/economia...  04/03/2024    0.935414  \n",
       "256  https://expansion.mx/economia/2024/03/07/con-t...  07/03/2024    0.308607  \n",
       "63   https://expansion.mx/economia/2024/02/27/mexic...  28/02/2024    0.239046  \n",
       "41   https://expansion.mx/economia/2024/03/01/finam...  01/03/2024    0.188982  \n",
       "128  https://www.jornada.com.mx/2024/03/05/opinion/...  05/03/2024    0.169031  \n",
       "180  https://www.jornada.com.mx/2024/03/06/cultura/...  06/03/2024    0.154303  \n",
       "241  https://www.jornada.com.mx/2024/03/07/deportes...  07/03/2024    0.154303  \n",
       "19   https://www.jornada.com.mx/2024/03/04/deportes...  04/03/2024    0.154303  \n",
       "143  https://www.jornada.com.mx/2024/03/05/deportes...  05/03/2024    0.154303  \n",
       "215  https://www.jornada.com.mx/2024/03/07/economia...  07/03/2024    0.154303  "
      ]
     },
     "execution_count": 19,
     "metadata": {},
     "output_type": "execute_result"
    }
   ],
   "source": [
    "simuilitudes[1]"
   ]
  }
 ],
 "metadata": {
  "kernelspec": {
   "display_name": "Python 3 (ipykernel)",
   "language": "python",
   "name": "python3"
  },
  "language_info": {
   "codemirror_mode": {
    "name": "ipython",
    "version": 3
   },
   "file_extension": ".py",
   "mimetype": "text/x-python",
   "name": "python",
   "nbconvert_exporter": "python",
   "pygments_lexer": "ipython3",
   "version": "3.12.2"
  }
 },
 "nbformat": 4,
 "nbformat_minor": 5
}
