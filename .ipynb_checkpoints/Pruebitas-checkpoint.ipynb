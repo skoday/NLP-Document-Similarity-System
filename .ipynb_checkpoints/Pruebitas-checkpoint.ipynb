{
 "cells": [
  {
   "cell_type": "code",
   "execution_count": 1,
   "id": "b69f7b1f-1f6e-4024-a358-ce016842a6ef",
   "metadata": {},
   "outputs": [],
   "source": [
    "from nlp.models import Create_model\n",
    "from nlp.normalization import Normalization\n",
    "import pandas as pd"
   ]
  },
  {
   "cell_type": "code",
   "execution_count": 2,
   "id": "c3a02858-901d-434c-ae11-0088a44cfc46",
   "metadata": {},
   "outputs": [],
   "source": [
    "inputs = [\n",
    "    \"Carlos Fernández-Vega : México SA\",\n",
    "    \"sector energético , cada cuatro empresa atraído nearshoring\",\n",
    "    \"2023 , inversión mexicano extranjero disminuir 55.7%\",\n",
    "    \"Enrique Galván Ochoa : Dinero\",\n",
    "    \"congresista EU presentar acuerdo financiamiento gobierno\"\n",
    "]"
   ]
  },
  {
   "cell_type": "code",
   "execution_count": 3,
   "id": "4b013891-3dd5-4160-ab23-1ef810810b5b",
   "metadata": {},
   "outputs": [],
   "source": [
    "# a un datagrame \n",
    "documentos = pd.DataFrame(inputs, columns=[\"Documento\"])"
   ]
  },
  {
   "cell_type": "markdown",
   "id": "770b1a67-2159-435d-9d77-5ecfd6e59ab3",
   "metadata": {},
   "source": [
    "## Normalizando"
   ]
  },
  {
   "cell_type": "code",
   "execution_count": 4,
   "id": "df95a99e-99b2-4cb0-aa51-7cafd4ff2b26",
   "metadata": {},
   "outputs": [],
   "source": [
    "normalizer = Normalization(documentos)"
   ]
  },
  {
   "cell_type": "code",
   "execution_count": 5,
   "id": "07c2691a-c82c-4227-9c7e-2ef26f33d850",
   "metadata": {},
   "outputs": [
    {
     "name": "stdout",
     "output_type": "stream",
     "text": [
      "Normalizando df\n"
     ]
    }
   ],
   "source": [
    "documentos_normalizados = normalizer.normalize()"
   ]
  },
  {
   "cell_type": "code",
   "execution_count": 6,
   "id": "61d387a5-7f14-4915-a79f-e5ac740bda70",
   "metadata": {},
   "outputs": [
    {
     "data": {
      "text/html": [
       "<div>\n",
       "<style scoped>\n",
       "    .dataframe tbody tr th:only-of-type {\n",
       "        vertical-align: middle;\n",
       "    }\n",
       "\n",
       "    .dataframe tbody tr th {\n",
       "        vertical-align: top;\n",
       "    }\n",
       "\n",
       "    .dataframe thead th {\n",
       "        text-align: right;\n",
       "    }\n",
       "</style>\n",
       "<table border=\"1\" class=\"dataframe\">\n",
       "  <thead>\n",
       "    <tr style=\"text-align: right;\">\n",
       "      <th></th>\n",
       "      <th>Documento</th>\n",
       "    </tr>\n",
       "  </thead>\n",
       "  <tbody>\n",
       "    <tr>\n",
       "      <th>0</th>\n",
       "      <td>impacto globalización crecimiento económico</td>\n",
       "    </tr>\n",
       "    <tr>\n",
       "      <th>1</th>\n",
       "      <td>Políticas monetario efecto estabilidad financiero</td>\n",
       "    </tr>\n",
       "    <tr>\n",
       "      <th>2</th>\n",
       "      <td>Desigualdad ingreso : causa , consecuencia pos...</td>\n",
       "    </tr>\n",
       "    <tr>\n",
       "      <th>3</th>\n",
       "      <td>papel innovación tecnológico desarrollo económico</td>\n",
       "    </tr>\n",
       "    <tr>\n",
       "      <th>4</th>\n",
       "      <td>Crisis económico : lección aprendido medida pr...</td>\n",
       "    </tr>\n",
       "  </tbody>\n",
       "</table>\n",
       "</div>"
      ],
      "text/plain": [
       "                                           Documento\n",
       "0        impacto globalización crecimiento económico\n",
       "1  Políticas monetario efecto estabilidad financiero\n",
       "2  Desigualdad ingreso : causa , consecuencia pos...\n",
       "3  papel innovación tecnológico desarrollo económico\n",
       "4  Crisis económico : lección aprendido medida pr..."
      ]
     },
     "execution_count": 6,
     "metadata": {},
     "output_type": "execute_result"
    }
   ],
   "source": [
    "documentos_normalizados"
   ]
  },
  {
   "cell_type": "markdown",
   "id": "59c8be5b-6ba9-4900-9ba9-63975d562bc8",
   "metadata": {},
   "source": [
    "### Creando modelo"
   ]
  },
  {
   "cell_type": "code",
   "execution_count": 7,
   "id": "31ac12b1-f670-4585-ba61-533d1798a9f0",
   "metadata": {},
   "outputs": [],
   "source": [
    "# importando noramlized data\n",
    "corpus = pd.read_csv(\"normalized_data_corpus_lcd_293.csv\")"
   ]
  },
  {
   "cell_type": "code",
   "execution_count": 8,
   "id": "6e0604a0-4eec-4032-93ac-0e64fa694d22",
   "metadata": {},
   "outputs": [
    {
     "data": {
      "text/plain": [
       "Index(['Fuente', 'Título', 'Contenido', 'Sección', 'Url', 'Fecha'], dtype='object')"
      ]
     },
     "execution_count": 8,
     "metadata": {},
     "output_type": "execute_result"
    }
   ],
   "source": [
    "corpus.columns"
   ]
  },
  {
   "cell_type": "code",
   "execution_count": 9,
   "id": "d4a95cca-1729-4204-ae46-cda33df5f6ce",
   "metadata": {},
   "outputs": [],
   "source": [
    "model_selector = Create_model(corpus)"
   ]
  },
  {
   "cell_type": "markdown",
   "id": "4fd54c53-39d2-4cdf-9f8f-26ec91321aff",
   "metadata": {},
   "source": [
    "#### Usando binario con bigramas y titulos"
   ]
  },
  {
   "cell_type": "code",
   "execution_count": 10,
   "id": "c166cdcf-9646-48ac-934b-0f98e0c6f572",
   "metadata": {},
   "outputs": [],
   "source": [
    "model = model_selector.binary(1, \"Título\")"
   ]
  },
  {
   "cell_type": "code",
   "execution_count": 11,
   "id": "6227daea-51c9-4755-8378-ccec2d81caa5",
   "metadata": {},
   "outputs": [],
   "source": [
    "from nlp.models import Create_model, Adjust_Document"
   ]
  },
  {
   "cell_type": "code",
   "execution_count": 12,
   "id": "0d06c5b0-6826-4d24-8479-d1c629a74a84",
   "metadata": {},
   "outputs": [],
   "source": [
    "adjustment = Adjust_Document(model, documentos_normalizados, corpus, \"Título\")"
   ]
  },
  {
   "cell_type": "code",
   "execution_count": 13,
   "id": "deacbb8b-8c6c-4941-9dc9-8945fcc9a1e3",
   "metadata": {},
   "outputs": [
    {
     "data": {
      "text/plain": [
       "[         Fuente                                             Título  \\\n",
       " 0    La Jornada                  Carlos Fernández-Vega : México SA   \n",
       " 184  La Jornada  estar disponible , volver segundo libro más ve...   \n",
       " 200   Expansión              confianza consumidor estancar febrero   \n",
       " 199   Expansión  Avances inflación EU \" no estar asegurado \" , ...   \n",
       " 198   Expansión        ¿ cuánto ganar Puebla ? ser sueldo promedio   \n",
       " 197   Expansión  fintech adquirir mercado , reto estar rentabil...   \n",
       " 196   Expansión  Mujeres necesitar ahorro 80% mayor que hombre ...   \n",
       " 195  La Jornada  futbolista varonil ganar 5 mdd anual , mientra...   \n",
       " 194  La Jornada  Senadores apruer iniciativa igualdad salarial ...   \n",
       " 193  La Jornada  inspirado mujer , Agúndez anhelar hacer histor...   \n",
       " \n",
       "                                              Contenido   Sección  \\\n",
       " 0    Práctica común tiempo campaña     electoral – ...  Economía   \n",
       " 184  lanzamiento novela póstuma Gabriel García Márq...   Cultura   \n",
       " 200  consumidor mexicano percibir mejora condición ...  Economía   \n",
       " 199  \" Si economía evolucionar general como esperar...  Economía   \n",
       " 198  conocer ser salario promedio Puebla nivel cali...  Economía   \n",
       " 197  Fitch que institución como Sofipos fintech ten...  Economía   \n",
       " 196  tener buen ingreso retiro ser gran desafío gen...  Economía   \n",
       " 195  futbol profesional existir amplio brecha salar...  Deportes   \n",
       " 194  unanimidad , Senado República aprobar ayer ref...  Deportes   \n",
       " 193  pasado 26 febrero , Gabriela Agúndez fin respi...  Deportes   \n",
       " \n",
       "                                                    Url       Fecha  Similarity  \n",
       " 0    https://www.jornada.com.mx/2024/03/04/opinion/...  04/03/2024         0.0  \n",
       " 184  https://www.jornada.com.mx/2024/03/06/cultura/...  06/03/2024         0.0  \n",
       " 200  https://expansion.mx/economia/2024/03/06/se-es...  06/03/2024         0.0  \n",
       " 199  https://expansion.mx/economia/2024/03/06/avanc...  06/03/2024         0.0  \n",
       " 198  https://expansion.mx/economia/2024/03/06/cuant...  06/03/2024         0.0  \n",
       " 197  https://expansion.mx/economia/2024/03/06/finte...  06/03/2024         0.0  \n",
       " 196  https://expansion.mx/economia/2024/03/06/mujer...  06/03/2024         0.0  \n",
       " 195  https://www.jornada.com.mx/2024/03/06/deportes...  06/03/2024         0.0  \n",
       " 194  https://www.jornada.com.mx/2024/03/06/deportes...  06/03/2024         0.0  \n",
       " 193  https://www.jornada.com.mx/2024/03/06/deportes...  06/03/2024         0.0  ]"
      ]
     },
     "execution_count": 13,
     "metadata": {},
     "output_type": "execute_result"
    }
   ],
   "source": [
    "adjustment.compare()"
   ]
  }
 ],
 "metadata": {
  "kernelspec": {
   "display_name": "Python 3 (ipykernel)",
   "language": "python",
   "name": "python3"
  },
  "language_info": {
   "codemirror_mode": {
    "name": "ipython",
    "version": 3
   },
   "file_extension": ".py",
   "mimetype": "text/x-python",
   "name": "python",
   "nbconvert_exporter": "python",
   "pygments_lexer": "ipython3",
   "version": "3.12.2"
  }
 },
 "nbformat": 4,
 "nbformat_minor": 5
}
